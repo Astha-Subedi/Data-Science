{
  "cells": [
    {
      "cell_type": "code",
      "execution_count": 2,
      "metadata": {
        "colab": {
          "base_uri": "https://localhost:8080/"
        },
        "id": "qvuFMfBs53kk",
        "outputId": "5fa93ae6-5d21-40ed-b97e-af5f3c8b2e93"
      },
      "outputs": [
        {
          "name": "stderr",
          "output_type": "stream",
          "text": [
            "[nltk_data] Downloading package stopwords to\n",
            "[nltk_data]     C:\\Users\\ACER\\AppData\\Roaming\\nltk_data...\n",
            "[nltk_data]   Package stopwords is already up-to-date!\n"
          ]
        }
      ],
      "source": [
        "#Importing the packags\n",
        "# pip install --user -U nltk\n",
        "# pip install -U scikit-learn\n",
        "\n",
        "import numpy as np\n",
        "import pandas as pd\n",
        "import re,string\n",
        "import matplotlib.pyplot as plt\n",
        "from nltk.corpus import stopwords\n",
        "from nltk.stem import PorterStemmer\n",
        "from sklearn.feature_extraction.text import TfidfVectorizer\n",
        "from sklearn.pipeline import Pipeline\n",
        "from sklearn.metrics import classification_report, confusion_matrix\n",
        "from sklearn.model_selection import train_test_split\n",
        "from sklearn.feature_selection import SelectKBest, chi2\n",
        "import pickle\n",
        "import nltk\n",
        "nltk.download('stopwords')\n",
        "%matplotlib inline"
      ]
    },
    {
      "cell_type": "code",
      "execution_count": null,
      "metadata": {
        "id": "wtSwmdAr8AwJ"
      },
      "outputs": [],
      "source": []
    },
    {
      "cell_type": "markdown",
      "metadata": {
        "id": "WSmqpMT3onW3"
      },
      "source": []
    },
    {
      "cell_type": "code",
      "execution_count": 4,
      "metadata": {
        "colab": {
          "base_uri": "https://localhost:8080/",
          "height": 423
        },
        "id": "BAtLnUFL6emp",
        "outputId": "651a2cf7-8038-4e64-ba58-cb6d9363b3c7"
      },
      "outputs": [
        {
          "data": {
            "text/html": [
              "<div>\n",
              "<style scoped>\n",
              "    .dataframe tbody tr th:only-of-type {\n",
              "        vertical-align: middle;\n",
              "    }\n",
              "\n",
              "    .dataframe tbody tr th {\n",
              "        vertical-align: top;\n",
              "    }\n",
              "\n",
              "    .dataframe thead th {\n",
              "        text-align: right;\n",
              "    }\n",
              "</style>\n",
              "<table border=\"1\" class=\"dataframe\">\n",
              "  <thead>\n",
              "    <tr style=\"text-align: right;\">\n",
              "      <th></th>\n",
              "      <th>category</th>\n",
              "      <th>text</th>\n",
              "    </tr>\n",
              "  </thead>\n",
              "  <tbody>\n",
              "    <tr>\n",
              "      <th>104</th>\n",
              "      <td>politics</td>\n",
              "      <td>howard pitches for uk ethnic vote michael howa...</td>\n",
              "    </tr>\n",
              "    <tr>\n",
              "      <th>217</th>\n",
              "      <td>sport</td>\n",
              "      <td>hewitt falls to dent in adelaide lleyton hewit...</td>\n",
              "    </tr>\n",
              "    <tr>\n",
              "      <th>1608</th>\n",
              "      <td>politics</td>\n",
              "      <td>final hunts held as ban looms hunts in england...</td>\n",
              "    </tr>\n",
              "    <tr>\n",
              "      <th>8</th>\n",
              "      <td>sport</td>\n",
              "      <td>wilkinson fit to face edinburgh england captai...</td>\n",
              "    </tr>\n",
              "    <tr>\n",
              "      <th>300</th>\n",
              "      <td>entertainment</td>\n",
              "      <td>stars pay tribute to actor davis hollywood sta...</td>\n",
              "    </tr>\n",
              "    <tr>\n",
              "      <th>...</th>\n",
              "      <td>...</td>\n",
              "      <td>...</td>\n",
              "    </tr>\n",
              "    <tr>\n",
              "      <th>245</th>\n",
              "      <td>sport</td>\n",
              "      <td>o connell rejects lions rumours ireland and mu...</td>\n",
              "    </tr>\n",
              "    <tr>\n",
              "      <th>1206</th>\n",
              "      <td>tech</td>\n",
              "      <td>speak easy plan for media players music and fi...</td>\n",
              "    </tr>\n",
              "    <tr>\n",
              "      <th>1125</th>\n",
              "      <td>business</td>\n",
              "      <td>parmalat founder offers apology the founder an...</td>\n",
              "    </tr>\n",
              "    <tr>\n",
              "      <th>1070</th>\n",
              "      <td>sport</td>\n",
              "      <td>holmes secures comeback victory britain s kell...</td>\n",
              "    </tr>\n",
              "    <tr>\n",
              "      <th>432</th>\n",
              "      <td>sport</td>\n",
              "      <td>england 17-18 france england suffered an eight...</td>\n",
              "    </tr>\n",
              "  </tbody>\n",
              "</table>\n",
              "<p>1613 rows × 2 columns</p>\n",
              "</div>"
            ],
            "text/plain": [
              "           category                                               text\n",
              "104        politics  howard pitches for uk ethnic vote michael howa...\n",
              "217           sport  hewitt falls to dent in adelaide lleyton hewit...\n",
              "1608       politics  final hunts held as ban looms hunts in england...\n",
              "8             sport  wilkinson fit to face edinburgh england captai...\n",
              "300   entertainment  stars pay tribute to actor davis hollywood sta...\n",
              "...             ...                                                ...\n",
              "245           sport  o connell rejects lions rumours ireland and mu...\n",
              "1206           tech  speak easy plan for media players music and fi...\n",
              "1125       business  parmalat founder offers apology the founder an...\n",
              "1070          sport  holmes secures comeback victory britain s kell...\n",
              "432           sport  england 17-18 france england suffered an eight...\n",
              "\n",
              "[1613 rows x 2 columns]"
            ]
          },
          "execution_count": 4,
          "metadata": {},
          "output_type": "execute_result"
        }
      ],
      "source": [
        "df = pd.read_csv('bbc-text .csv', encoding = 'latin1',nrows = 1613)\n",
        "df = df.sample(frac = 1)\n",
        "df"
      ]
    },
    {
      "cell_type": "code",
      "execution_count": 5,
      "metadata": {
        "colab": {
          "base_uri": "https://localhost:8080/"
        },
        "id": "G7c8rULu8LQZ",
        "outputId": "dc9fdd2f-45f2-4971-a6ac-708a39b8c8eb"
      },
      "outputs": [
        {
          "data": {
            "text/plain": [
              "5"
            ]
          },
          "execution_count": 5,
          "metadata": {},
          "output_type": "execute_result"
        }
      ],
      "source": [
        "#No of a categories\n",
        "len(set(df['category']))"
      ]
    },
    {
      "cell_type": "code",
      "execution_count": 6,
      "metadata": {
        "colab": {
          "base_uri": "https://localhost:8080/"
        },
        "id": "833043k1zE5O",
        "outputId": "7ece5d8b-6f81-4067-e3aa-454721ad43d4"
      },
      "outputs": [
        {
          "data": {
            "text/plain": [
              "category\n",
              "business         370\n",
              "entertainment    291\n",
              "politics         301\n",
              "sport            365\n",
              "tech             286\n",
              "Name: category, dtype: int64"
            ]
          },
          "execution_count": 6,
          "metadata": {},
          "output_type": "execute_result"
        }
      ],
      "source": [
        "df.groupby('category').category.count()"
      ]
    },
    {
      "cell_type": "code",
      "execution_count": 7,
      "metadata": {
        "colab": {
          "base_uri": "https://localhost:8080/",
          "height": 535
        },
        "id": "PadVAxI17lgb",
        "outputId": "6ebd3f17-8147-44d5-c7fb-cab2b9cf8f74"
      },
      "outputs": [
        {
          "data": {
            "image/png": "[encoded data removed]",
            "text/plain": [
              "<Figure size 640x480 with 1 Axes>"
            ]
          },
          "metadata": {},
          "output_type": "display_data"
        }
      ],
      "source": [
        "#Analyzing data\n",
        "df.groupby('category').category.count().plot.bar()\n",
        "plt.show()"
      ]
    },
    {
      "cell_type": "code",
      "execution_count": 8,
      "metadata": {
        "id": "c43wlqTvuf8z"
      },
      "outputs": [],
      "source": [
        "#Data Preprocessing"
      ]
    },
    {
      "cell_type": "code",
      "execution_count": 9,
      "metadata": {
        "id": "ugCn7fzTh-pY"
      },
      "outputs": [],
      "source": [
        "# df['text'] = [re.sub(\"[^a-zA-Z]\", \" \", i).lower() for i in df['text']]"
      ]
    },
    {
      "cell_type": "code",
      "execution_count": 10,
      "metadata": {
        "colab": {
          "base_uri": "https://localhost:8080/"
        },
        "id": "7RDOg2Vcz0w_",
        "outputId": "62ee6211-3b1a-4f61-ef2a-1b6317a3ed99"
      },
      "outputs": [
        {
          "name": "stdout",
          "output_type": "stream",
          "text": [
            "['i', 'me', 'my', 'myself', 'we', 'our', 'ours', 'ourselves', 'you', \"you're\", \"you've\", \"you'll\", \"you'd\", 'your', 'yours', 'yourself', 'yourselves', 'he', 'him', 'his', 'himself', 'she', \"she's\", 'her', 'hers', 'herself', 'it', \"it's\", 'its', 'itself', 'they', 'them', 'their', 'theirs', 'themselves', 'what', 'which', 'who', 'whom', 'this', 'that', \"that'll\", 'these', 'those', 'am', 'is', 'are', 'was', 'were', 'be', 'been', 'being', 'have', 'has', 'had', 'having', 'do', 'does', 'did', 'doing', 'a', 'an', 'the', 'and', 'but', 'if', 'or', 'because', 'as', 'until', 'while', 'of', 'at', 'by', 'for', 'with', 'about', 'against', 'between', 'into', 'through', 'during', 'before', 'after', 'above', 'below', 'to', 'from', 'up', 'down', 'in', 'out', 'on', 'off', 'over', 'under', 'again', 'further', 'then', 'once', 'here', 'there', 'when', 'where', 'why', 'how', 'all', 'any', 'both', 'each', 'few', 'more', 'most', 'other', 'some', 'such', 'no', 'nor', 'not', 'only', 'own', 'same', 'so', 'than', 'too', 'very', 's', 't', 'can', 'will', 'just', 'don', \"don't\", 'should', \"should've\", 'now', 'd', 'll', 'm', 'o', 're', 've', 'y', 'ain', 'aren', \"aren't\", 'couldn', \"couldn't\", 'didn', \"didn't\", 'doesn', \"doesn't\", 'hadn', \"hadn't\", 'hasn', \"hasn't\", 'haven', \"haven't\", 'isn', \"isn't\", 'ma', 'mightn', \"mightn't\", 'mustn', \"mustn't\", 'needn', \"needn't\", 'shan', \"shan't\", 'shouldn', \"shouldn't\", 'wasn', \"wasn't\", 'weren', \"weren't\", 'won', \"won't\", 'wouldn', \"wouldn't\"]\n"
          ]
        },
        {
          "name": "stderr",
          "output_type": "stream",
          "text": [
            "[nltk_data] Downloading package stopwords to\n",
            "[nltk_data]     C:\\Users\\ACER\\AppData\\Roaming\\nltk_data...\n",
            "[nltk_data]   Package stopwords is already up-to-date!\n"
          ]
        }
      ],
      "source": [
        "#stop words\n",
        "nltk.download('stopwords')\n",
        "words = stopwords.words(\"english\")\n",
        "print(words)"
      ]
    },
    {
      "cell_type": "code",
      "execution_count": 11,
      "metadata": {
        "colab": {
          "base_uri": "https://localhost:8080/",
          "height": 36
        },
        "id": "bQU9V9SN1yUy",
        "outputId": "e598c265-1102-4820-8ed8-edf5355b345d"
      },
      "outputs": [
        {
          "data": {
            "text/plain": [
              "'i am love comput'"
            ]
          },
          "execution_count": 11,
          "metadata": {},
          "output_type": "execute_result"
        }
      ],
      "source": [
        "# Data Cleaning using stemmer\n",
        "\n",
        "stemmer = PorterStemmer()\n",
        "data = \"I am loving computing\".split()\n",
        "\" \".join([stemmer.stem(i) for i in data])\n",
        "# stemmer.stem(\"\")\n",
        "# data"
      ]
    },
    {
      "cell_type": "code",
      "execution_count": 12,
      "metadata": {
        "colab": {
          "base_uri": "https://localhost:8080/",
          "height": 36
        },
        "id": "wO_YX5I8Y4Ji",
        "outputId": "1b5cdfca-3efa-404c-e533-393526a342fa"
      },
      "outputs": [
        {
          "data": {
            "text/plain": [
              "'i am love comput'"
            ]
          },
          "execution_count": 12,
          "metadata": {},
          "output_type": "execute_result"
        }
      ],
      "source": [
        "data = \"I am loving computing\".split()\n",
        "\" \".join([stemmer.stem(i) for i in data])\n",
        "# stemmer.stem(\"I am loving computing\")"
      ]
    },
    {
      "cell_type": "code",
      "execution_count": 13,
      "metadata": {
        "id": "mZPU9uU5fr2I"
      },
      "outputs": [],
      "source": [
        "# Data Cleaning removing stopwords"
      ]
    },
    {
      "cell_type": "code",
      "execution_count": 14,
      "metadata": {
        "colab": {
          "base_uri": "https://localhost:8080/",
          "height": 36
        },
        "id": "nsXVZKSiakhv",
        "outputId": "c5d4bdba-590a-4699-de19-11b6e27a236b"
      },
      "outputs": [
        {
          "data": {
            "text/plain": [
              "' loving computing'"
            ]
          },
          "execution_count": 14,
          "metadata": {},
          "output_type": "execute_result"
        }
      ],
      "source": [
        "news = ''\n",
        "data = \"I am loving computing\".lower().split()\n",
        "for i in data:\n",
        "  if i not in words:\n",
        "    news = news + \" \" +i\n",
        "news\n",
        "  # print(i)"
      ]
    },
    {
      "cell_type": "code",
      "execution_count": 15,
      "metadata": {
        "colab": {
          "base_uri": "https://localhost:8080/",
          "height": 123
        },
        "id": "jbzAnVHd4pfD",
        "outputId": "d17e5ef4-d418-4304-e6ba-b886e6ce7e6e"
      },
      "outputs": [
        {
          "data": {
            "text/plain": [
              "'tv future in the hands of viewers with home theatre systems  plasma high-definition tvs  and digital video recorders moving into the living room  the way people watch tv will be radically different in five years  time.  that is according to an expert panel which gathered at the annual consumer electronics show in las vegas to discuss how these new technologies will impact one of our favourite pastimes. with the us leading the trend  programmes and other content will be delivered to viewers via home networks  through cable  satellite  telecoms companies  and broadband service providers to front rooms and portable devices.  one of the most talked-about technologies of ces has been digital and personal video recorders (dvr and pvr). these set-top boxes  like the us s tivo and the uk s sky+ system  allow people to record  store  play  pause and forward wind tv programmes when they want.  essentially  the technology allows for much more personalised tv. they are also being built-in to high-definition tv sets  which are big business in japan and the us  but slower to take off in europe because of the lack of high-definition programming. not only can people forward wind through adverts  they can also forget about abiding by network and channel schedules  putting together their own a-la-carte entertainment. but some us networks and cable and satellite companies are worried about what it means for them in terms of advertising revenues as well as  brand identity  and viewer loyalty to channels. although the us leads in this technology at the moment  it is also a concern that is being raised in europe  particularly with the growing uptake of services like sky+.  what happens here today  we will see in nine months to a years  time in the uk   adam hume  the bbc broadcast s futurologist told the bbc news website. for the likes of the bbc  there are no issues of lost advertising revenue yet. it is a more pressing issue at the moment for commercial uk broadcasters  but brand loyalty is important for everyone.  we will be talking more about content brands rather than network brands   said tim hanlon  from brand communications firm starcom mediavest.  the reality is that with broadband connections  anybody can be the producer of content.  he added:  the challenge now is that it is hard to promote a programme with so much choice.   what this means  said stacey jolna  senior vice president of tv guide tv group  is that the way people find the content they want to watch has to be simplified for tv viewers. it means that networks  in us terms  or channels could take a leaf out of google s book and be the search engine of the future  instead of the scheduler to help people find what they want to watch. this kind of channel model might work for the younger ipod generation which is used to taking control of their gadgets and what they play on them. but it might not suit everyone  the panel recognised. older generations are more comfortable with familiar schedules and channel brands because they know what they are getting. they perhaps do not want so much of the choice put into their hands  mr hanlon suggested.  on the other end  you have the kids just out of diapers who are pushing buttons already - everything is possible and available to them   said mr hanlon.  ultimately  the consumer will tell the market they want.   of the 50 000 new gadgets and technologies being showcased at ces  many of them are about enhancing the tv-watching experience. high-definition tv sets are everywhere and many new models of lcd (liquid crystal display) tvs have been launched with dvr capability built into them  instead of being external boxes. one such example launched at the show is humax s 26-inch lcd tv with an 80-hour tivo dvr and dvd recorder. one of the us s biggest satellite tv companies  directtv  has even launched its own branded dvr at the show with 100-hours of recording capability  instant replay  and a search function. the set can pause and rewind tv for up to 90 hours. and microsoft chief bill gates announced in his pre-show keynote speech a partnership with tivo  called tivotogo  which means people can play recorded programmes on windows pcs and mobile devices. all these reflect the increasing trend of freeing up multimedia so that people can watch what they want  when they want.'"
            ]
          },
          "execution_count": 15,
          "metadata": {},
          "output_type": "execute_result"
        }
      ],
      "source": [
        "df['text'][0]"
      ]
    },
    {
      "cell_type": "code",
      "execution_count": 16,
      "metadata": {
        "colab": {
          "base_uri": "https://localhost:8080/",
          "height": 423
        },
        "id": "8iBXfOfoFvaF",
        "outputId": "27ef9a4a-b8f2-4e3c-a8b7-c59cf79b16b9"
      },
      "outputs": [
        {
          "data": {
            "text/html": [
              "<div>\n",
              "<style scoped>\n",
              "    .dataframe tbody tr th:only-of-type {\n",
              "        vertical-align: middle;\n",
              "    }\n",
              "\n",
              "    .dataframe tbody tr th {\n",
              "        vertical-align: top;\n",
              "    }\n",
              "\n",
              "    .dataframe thead th {\n",
              "        text-align: right;\n",
              "    }\n",
              "</style>\n",
              "<table border=\"1\" class=\"dataframe\">\n",
              "  <thead>\n",
              "    <tr style=\"text-align: right;\">\n",
              "      <th></th>\n",
              "      <th>category</th>\n",
              "      <th>text</th>\n",
              "    </tr>\n",
              "  </thead>\n",
              "  <tbody>\n",
              "    <tr>\n",
              "      <th>104</th>\n",
              "      <td>politics</td>\n",
              "      <td>howard pitches uk ethnic vote michael howard m...</td>\n",
              "    </tr>\n",
              "    <tr>\n",
              "      <th>217</th>\n",
              "      <td>sport</td>\n",
              "      <td>hewitt falls dent adelaide lleyton hewitt suff...</td>\n",
              "    </tr>\n",
              "    <tr>\n",
              "      <th>1608</th>\n",
              "      <td>politics</td>\n",
              "      <td>final hunts held ban looms hunts england wales...</td>\n",
              "    </tr>\n",
              "    <tr>\n",
              "      <th>8</th>\n",
              "      <td>sport</td>\n",
              "      <td>wilkinson fit face edinburgh england captain j...</td>\n",
              "    </tr>\n",
              "    <tr>\n",
              "      <th>300</th>\n",
              "      <td>entertainment</td>\n",
              "      <td>stars pay tribute actor davis hollywood stars ...</td>\n",
              "    </tr>\n",
              "    <tr>\n",
              "      <th>...</th>\n",
              "      <td>...</td>\n",
              "      <td>...</td>\n",
              "    </tr>\n",
              "    <tr>\n",
              "      <th>245</th>\n",
              "      <td>sport</td>\n",
              "      <td>connell rejects lions rumours ireland munster ...</td>\n",
              "    </tr>\n",
              "    <tr>\n",
              "      <th>1206</th>\n",
              "      <td>tech</td>\n",
              "      <td>speak easy plan media players music film fans ...</td>\n",
              "    </tr>\n",
              "    <tr>\n",
              "      <th>1125</th>\n",
              "      <td>business</td>\n",
              "      <td>parmalat founder offers apology founder former...</td>\n",
              "    </tr>\n",
              "    <tr>\n",
              "      <th>1070</th>\n",
              "      <td>sport</td>\n",
              "      <td>holmes secures comeback victory britain kelly ...</td>\n",
              "    </tr>\n",
              "    <tr>\n",
              "      <th>432</th>\n",
              "      <td>sport</td>\n",
              "      <td>england france england suffered eighth defeat ...</td>\n",
              "    </tr>\n",
              "  </tbody>\n",
              "</table>\n",
              "<p>1613 rows × 2 columns</p>\n",
              "</div>"
            ],
            "text/plain": [
              "           category                                               text\n",
              "104        politics  howard pitches uk ethnic vote michael howard m...\n",
              "217           sport  hewitt falls dent adelaide lleyton hewitt suff...\n",
              "1608       politics  final hunts held ban looms hunts england wales...\n",
              "8             sport  wilkinson fit face edinburgh england captain j...\n",
              "300   entertainment  stars pay tribute actor davis hollywood stars ...\n",
              "...             ...                                                ...\n",
              "245           sport  connell rejects lions rumours ireland munster ...\n",
              "1206           tech  speak easy plan media players music film fans ...\n",
              "1125       business  parmalat founder offers apology founder former...\n",
              "1070          sport  holmes secures comeback victory britain kelly ...\n",
              "432           sport  england france england suffered eighth defeat ...\n",
              "\n",
              "[1613 rows x 2 columns]"
            ]
          },
          "execution_count": 16,
          "metadata": {},
          "output_type": "execute_result"
        }
      ],
      "source": [
        "# Doing all cleaning process using regex, stemmer, stopwords for all data\n",
        "df['text'] = [re.sub(\"[^a-zA-Z]\", \" \", i).lower() for i in df['text']]\n",
        "df['text'] = list(map(lambda x: \" \".join([i for i in x.lower().split() if i not in words]), df['text']))\n",
        "# df['text'] = [\" \".join(word.split() for word in df['text'] if word.lower() not in stopwords.words('english'))]\n",
        "df"
      ]
    },
    {
      "cell_type": "code",
      "execution_count": 17,
      "metadata": {
        "id": "8fzgwwiH0nGA"
      },
      "outputs": [],
      "source": [
        "df.to_csv('cleaned_bbc_data.csv')"
      ]
    },
    {
      "cell_type": "code",
      "execution_count": 18,
      "metadata": {
        "id": "76wP0Gl7s-Eb"
      },
      "outputs": [],
      "source": [
        "# df['cleaned'] = df['text'].apply(lambda x: \" \".join([stemmer.stem(i) for i in re.sub(\"[^a-zA-Z]\", \" \", x).split() ]).lower())\n",
        "# df"
      ]
    },
    {
      "cell_type": "code",
      "execution_count": 19,
      "metadata": {
        "id": "rpyZb6DBr0yS"
      },
      "outputs": [],
      "source": [
        "# print(words)"
      ]
    },
    {
      "cell_type": "code",
      "execution_count": 20,
      "metadata": {
        "id": "9QpxBwUMvFrW"
      },
      "outputs": [],
      "source": [
        "# words = stopwords.words(\"nepali\")\n",
        "# words"
      ]
    },
    {
      "cell_type": "code",
      "execution_count": 21,
      "metadata": {
        "colab": {
          "base_uri": "https://localhost:8080/",
          "height": 423
        },
        "id": "e7YQAi-Asdy2",
        "outputId": "c19c5c10-553b-4981-f75e-2f93f7752430"
      },
      "outputs": [
        {
          "data": {
            "text/html": [
              "<div>\n",
              "<style scoped>\n",
              "    .dataframe tbody tr th:only-of-type {\n",
              "        vertical-align: middle;\n",
              "    }\n",
              "\n",
              "    .dataframe tbody tr th {\n",
              "        vertical-align: top;\n",
              "    }\n",
              "\n",
              "    .dataframe thead th {\n",
              "        text-align: right;\n",
              "    }\n",
              "</style>\n",
              "<table border=\"1\" class=\"dataframe\">\n",
              "  <thead>\n",
              "    <tr style=\"text-align: right;\">\n",
              "      <th></th>\n",
              "      <th>category</th>\n",
              "      <th>text</th>\n",
              "      <th>cleaned</th>\n",
              "    </tr>\n",
              "  </thead>\n",
              "  <tbody>\n",
              "    <tr>\n",
              "      <th>104</th>\n",
              "      <td>politics</td>\n",
              "      <td>howard pitches uk ethnic vote michael howard m...</td>\n",
              "      <td>howard pitch uk ethnic vote michael howard mak...</td>\n",
              "    </tr>\n",
              "    <tr>\n",
              "      <th>217</th>\n",
              "      <td>sport</td>\n",
              "      <td>hewitt falls dent adelaide lleyton hewitt suff...</td>\n",
              "      <td>hewitt fall dent adelaid lleyton hewitt suffer...</td>\n",
              "    </tr>\n",
              "    <tr>\n",
              "      <th>1608</th>\n",
              "      <td>politics</td>\n",
              "      <td>final hunts held ban looms hunts england wales...</td>\n",
              "      <td>final hunt held ban loom hunt england wale beg...</td>\n",
              "    </tr>\n",
              "    <tr>\n",
              "      <th>8</th>\n",
              "      <td>sport</td>\n",
              "      <td>wilkinson fit face edinburgh england captain j...</td>\n",
              "      <td>wilkinson fit face edinburgh england captain j...</td>\n",
              "    </tr>\n",
              "    <tr>\n",
              "      <th>300</th>\n",
              "      <td>entertainment</td>\n",
              "      <td>stars pay tribute actor davis hollywood stars ...</td>\n",
              "      <td>star pay tribut actor davi hollywood star incl...</td>\n",
              "    </tr>\n",
              "    <tr>\n",
              "      <th>...</th>\n",
              "      <td>...</td>\n",
              "      <td>...</td>\n",
              "      <td>...</td>\n",
              "    </tr>\n",
              "    <tr>\n",
              "      <th>245</th>\n",
              "      <td>sport</td>\n",
              "      <td>connell rejects lions rumours ireland munster ...</td>\n",
              "      <td>connel reject lion rumour ireland munster lock...</td>\n",
              "    </tr>\n",
              "    <tr>\n",
              "      <th>1206</th>\n",
              "      <td>tech</td>\n",
              "      <td>speak easy plan media players music film fans ...</td>\n",
              "      <td>speak easi plan media player music film fan ab...</td>\n",
              "    </tr>\n",
              "    <tr>\n",
              "      <th>1125</th>\n",
              "      <td>business</td>\n",
              "      <td>parmalat founder offers apology founder former...</td>\n",
              "      <td>parmalat founder offer apolog founder former b...</td>\n",
              "    </tr>\n",
              "    <tr>\n",
              "      <th>1070</th>\n",
              "      <td>sport</td>\n",
              "      <td>holmes secures comeback victory britain kelly ...</td>\n",
              "      <td>holm secur comeback victori britain kelli holm...</td>\n",
              "    </tr>\n",
              "    <tr>\n",
              "      <th>432</th>\n",
              "      <td>sport</td>\n",
              "      <td>england france england suffered eighth defeat ...</td>\n",
              "      <td>england franc england suffer eighth defeat tes...</td>\n",
              "    </tr>\n",
              "  </tbody>\n",
              "</table>\n",
              "<p>1613 rows × 3 columns</p>\n",
              "</div>"
            ],
            "text/plain": [
              "           category                                               text  \\\n",
              "104        politics  howard pitches uk ethnic vote michael howard m...   \n",
              "217           sport  hewitt falls dent adelaide lleyton hewitt suff...   \n",
              "1608       politics  final hunts held ban looms hunts england wales...   \n",
              "8             sport  wilkinson fit face edinburgh england captain j...   \n",
              "300   entertainment  stars pay tribute actor davis hollywood stars ...   \n",
              "...             ...                                                ...   \n",
              "245           sport  connell rejects lions rumours ireland munster ...   \n",
              "1206           tech  speak easy plan media players music film fans ...   \n",
              "1125       business  parmalat founder offers apology founder former...   \n",
              "1070          sport  holmes secures comeback victory britain kelly ...   \n",
              "432           sport  england france england suffered eighth defeat ...   \n",
              "\n",
              "                                                cleaned  \n",
              "104   howard pitch uk ethnic vote michael howard mak...  \n",
              "217   hewitt fall dent adelaid lleyton hewitt suffer...  \n",
              "1608  final hunt held ban loom hunt england wale beg...  \n",
              "8     wilkinson fit face edinburgh england captain j...  \n",
              "300   star pay tribut actor davi hollywood star incl...  \n",
              "...                                                 ...  \n",
              "245   connel reject lion rumour ireland munster lock...  \n",
              "1206  speak easi plan media player music film fan ab...  \n",
              "1125  parmalat founder offer apolog founder former b...  \n",
              "1070  holm secur comeback victori britain kelli holm...  \n",
              "432   england franc england suffer eighth defeat tes...  \n",
              "\n",
              "[1613 rows x 3 columns]"
            ]
          },
          "execution_count": 21,
          "metadata": {},
          "output_type": "execute_result"
        }
      ],
      "source": [
        "df['cleaned'] = df['text'].apply(lambda x: \" \".join([stemmer.stem(i) for i in re.sub(\"[^a-zA-Z]\", \" \", x).split() if i not in words]).lower())\n",
        "df"
      ]
    },
    {
      "cell_type": "code",
      "execution_count": 22,
      "metadata": {
        "id": "qunZeGdV_GLj"
      },
      "outputs": [],
      "source": [
        "# Training model\n",
        "from sklearn.linear_model import LogisticRegression\n",
        "log_regression = LogisticRegression()\n",
        "\n",
        "vectorizer = TfidfVectorizer()\n",
        "X = df['text']\n",
        "Y = df['category'].astype('str')\n",
        "\n",
        "X_train, X_test, y_train, y_test = train_test_split(X, Y, test_size=0.15) #Splitting dataset\n",
        "\n",
        "\n",
        "# #Creating Pipeline\n",
        "pipeline = Pipeline([('vect', vectorizer),\n",
        "                     ('chi',  SelectKBest(chi2, k=2000)),\n",
        "                     ('clf', LogisticRegression())])\n",
        "\n",
        "\n",
        "# #Training model\n",
        "model = pipeline.fit(X_train, y_train)\n",
        "\n",
        "# #Creating pickle file\n",
        "with open('LogisticRegression.pickle', 'wb') as f:\n",
        "    pickle.dump(model, f)"
      ]
    },
    {
      "cell_type": "code",
      "execution_count": 23,
      "metadata": {
        "colab": {
          "base_uri": "https://localhost:8080/"
        },
        "id": "gSyRFPq-duso",
        "outputId": "45bed3a8-ffcb-46c3-c8a6-5d3d490eb26b"
      },
      "outputs": [
        {
          "data": {
            "text/plain": [
              "495     thousands join strike wales thousands civil se...\n",
              "920     oscar nominees lack pulling power year clutch ...\n",
              "520     fiat chief takes steering wheel chief executiv...\n",
              "62      court rejects bn tobacco case us government cl...\n",
              "463     dozens held id fraud site twenty eight people ...\n",
              "                              ...                        \n",
              "181     blogger grounded airline us airline attendant ...\n",
              "838     spain coach faces racism inquiry spain footbal...\n",
              "1560    china role yukos split china lent russia bn bn...\n",
              "1440    nat insurance rise say tories national insuran...\n",
              "1200    tv calls carroll error spurs boss martin jol s...\n",
              "Name: text, Length: 242, dtype: object"
            ]
          },
          "execution_count": 23,
          "metadata": {},
          "output_type": "execute_result"
        }
      ],
      "source": [
        "X_test"
      ]
    },
    {
      "cell_type": "markdown",
      "metadata": {
        "id": "2a3fg_Ht6NT9"
      },
      "source": []
    },
    {
      "cell_type": "code",
      "execution_count": 24,
      "metadata": {
        "colab": {
          "base_uri": "https://localhost:8080/"
        },
        "id": "GBpFpej76bMT",
        "outputId": "b67c38e9-bcc9-4e4a-ae7c-2c49ab851093"
      },
      "outputs": [
        {
          "data": {
            "text/plain": [
              "495          politics\n",
              "920     entertainment\n",
              "520          business\n",
              "62           business\n",
              "463              tech\n",
              "            ...      \n",
              "181              tech\n",
              "838             sport\n",
              "1560         business\n",
              "1440         politics\n",
              "1200            sport\n",
              "Name: category, Length: 242, dtype: object"
            ]
          },
          "execution_count": 24,
          "metadata": {},
          "output_type": "execute_result"
        }
      ],
      "source": [
        "y_test"
      ]
    },
    {
      "cell_type": "code",
      "execution_count": 25,
      "metadata": {
        "colab": {
          "base_uri": "https://localhost:8080/"
        },
        "id": "aAZIfQmWIlP1",
        "outputId": "1634b39d-ab98-4cf7-bfb4-e59a6074427f"
      },
      "outputs": [
        {
          "name": "stdout",
          "output_type": "stream",
          "text": [
            "0.9586776859504132\n"
          ]
        }
      ],
      "source": [
        "#Accuracy\n",
        "from sklearn.metrics import accuracy_score\n",
        "predict_news_cat = model.predict(X_test)\n",
        "# print(predict_news_cat)\n",
        "print(accuracy_score(y_test,predict_news_cat))\n",
        "# print('\\n')\n",
        "# print(predict_news_cat)"
      ]
    },
    {
      "cell_type": "code",
      "execution_count": 26,
      "metadata": {
        "colab": {
          "base_uri": "https://localhost:8080/"
        },
        "id": "5S-Fnbr-DT65",
        "outputId": "19b30a0b-3753-437f-d54d-6a90b8324f32"
      },
      "outputs": [
        {
          "ename": "FileNotFoundError",
          "evalue": "[Errno 2] No such file or directory: '/content/news.txt'",
          "output_type": "error",
          "traceback": [
            "\u001b[1;31m---------------------------------------------------------------------------\u001b[0m",
            "\u001b[1;31mFileNotFoundError\u001b[0m                         Traceback (most recent call last)",
            "Cell \u001b[1;32mIn[26], line 1\u001b[0m\n\u001b[1;32m----> 1\u001b[0m file \u001b[38;5;241m=\u001b[39m \u001b[38;5;28;43mopen\u001b[39;49m\u001b[43m(\u001b[49m\u001b[38;5;124;43m'\u001b[39;49m\u001b[38;5;124;43m/content/news.txt\u001b[39;49m\u001b[38;5;124;43m'\u001b[39;49m\u001b[43m,\u001b[49m\u001b[38;5;124;43m'\u001b[39;49m\u001b[38;5;124;43mr\u001b[39;49m\u001b[38;5;124;43m'\u001b[39;49m\u001b[43m)\u001b[49m\n\u001b[0;32m      2\u001b[0m news \u001b[38;5;241m=\u001b[39m file\u001b[38;5;241m.\u001b[39mread()\n\u001b[0;32m      3\u001b[0m file\u001b[38;5;241m.\u001b[39mclose()\n",
            "File \u001b[1;32mc:\\Users\\ACER\\OneDrive\\Desktop\\data science\\venv\\Lib\\site-packages\\IPython\\core\\interactiveshell.py:324\u001b[0m, in \u001b[0;36m_modified_open\u001b[1;34m(file, *args, **kwargs)\u001b[0m\n\u001b[0;32m    317\u001b[0m \u001b[38;5;28;01mif\u001b[39;00m file \u001b[38;5;129;01min\u001b[39;00m {\u001b[38;5;241m0\u001b[39m, \u001b[38;5;241m1\u001b[39m, \u001b[38;5;241m2\u001b[39m}:\n\u001b[0;32m    318\u001b[0m     \u001b[38;5;28;01mraise\u001b[39;00m \u001b[38;5;167;01mValueError\u001b[39;00m(\n\u001b[0;32m    319\u001b[0m         \u001b[38;5;124mf\u001b[39m\u001b[38;5;124m\"\u001b[39m\u001b[38;5;124mIPython won\u001b[39m\u001b[38;5;124m'\u001b[39m\u001b[38;5;124mt let you open fd=\u001b[39m\u001b[38;5;132;01m{\u001b[39;00mfile\u001b[38;5;132;01m}\u001b[39;00m\u001b[38;5;124m by default \u001b[39m\u001b[38;5;124m\"\u001b[39m\n\u001b[0;32m    320\u001b[0m         \u001b[38;5;124m\"\u001b[39m\u001b[38;5;124mas it is likely to crash IPython. If you know what you are doing, \u001b[39m\u001b[38;5;124m\"\u001b[39m\n\u001b[0;32m    321\u001b[0m         \u001b[38;5;124m\"\u001b[39m\u001b[38;5;124myou can use builtins\u001b[39m\u001b[38;5;124m'\u001b[39m\u001b[38;5;124m open.\u001b[39m\u001b[38;5;124m\"\u001b[39m\n\u001b[0;32m    322\u001b[0m     )\n\u001b[1;32m--> 324\u001b[0m \u001b[38;5;28;01mreturn\u001b[39;00m \u001b[43mio_open\u001b[49m\u001b[43m(\u001b[49m\u001b[43mfile\u001b[49m\u001b[43m,\u001b[49m\u001b[43m \u001b[49m\u001b[38;5;241;43m*\u001b[39;49m\u001b[43margs\u001b[49m\u001b[43m,\u001b[49m\u001b[43m \u001b[49m\u001b[38;5;241;43m*\u001b[39;49m\u001b[38;5;241;43m*\u001b[39;49m\u001b[43mkwargs\u001b[49m\u001b[43m)\u001b[49m\n",
            "\u001b[1;31mFileNotFoundError\u001b[0m: [Errno 2] No such file or directory: '/content/news.txt'"
          ]
        }
      ],
      "source": [
        "file = open('/content/news.txt','r')\n",
        "news = file.read()\n",
        "file.close()\n",
        "\n",
        "# news = input(\"Enter news = \")\n",
        "news_data = {'predict_news':[news]}\n",
        "news_data_df = pd.DataFrame(news_data)\n",
        "news_data_df\n",
        "predict_news_cat = model.predict(news_data_df['predict_news'])\n",
        "print(\"Predicted news category = \",predict_news_cat[0])"
      ]
    },
    {
      "cell_type": "code",
      "execution_count": 27,
      "metadata": {
        "colab": {
          "base_uri": "https://localhost:8080/"
        },
        "id": "y24Ctjrm_rpj",
        "outputId": "fbfe069a-86b8-4d10-c4a9-0d4f6b89bdf2"
      },
      "outputs": [
        {
          "name": "stdout",
          "output_type": "stream",
          "text": [
            "               precision    recall  f1-score   support\n",
            "\n",
            "     business       0.94      0.98      0.96        59\n",
            "entertainment       1.00      0.93      0.96        41\n",
            "     politics       0.98      0.92      0.95        50\n",
            "        sport       0.96      1.00      0.98        52\n",
            "         tech       0.93      0.95      0.94        40\n",
            "\n",
            "     accuracy                           0.96       242\n",
            "    macro avg       0.96      0.96      0.96       242\n",
            " weighted avg       0.96      0.96      0.96       242\n",
            "\n",
            "[[58  0  0  0  1]\n",
            " [ 1 38  1  0  1]\n",
            " [ 3  0 46  0  1]\n",
            " [ 0  0  0 52  0]\n",
            " [ 0  0  0  2 38]]\n"
          ]
        }
      ],
      "source": [
        "# confusion matrix and classification report(precision, recall, F1-score)\n",
        "ytest = np.array(y_test)\n",
        "print(classification_report(ytest,model.predict(X_test)))\n",
        "print(confusion_matrix(ytest,model.predict(X_test)))"
      ]
    },
    {
      "cell_type": "code",
      "execution_count": 28,
      "metadata": {
        "colab": {
          "base_uri": "https://localhost:8080/",
          "height": 666
        },
        "id": "0CoGLcdeMxjw",
        "outputId": "a3f3b0cd-b59e-408f-f431-b403818c110e"
      },
      "outputs": [
        {
          "data": {
            "image/png": "[encoded data removed]",
            "text/plain": [
              "<Figure size 800x800 with 2 Axes>"
            ]
          },
          "metadata": {},
          "output_type": "display_data"
        }
      ],
      "source": [
        "import matplotlib.pyplot as plt\n",
        "from sklearn.metrics import ConfusionMatrixDisplay\n",
        "cm = confusion_matrix(model.predict(X_test),ytest)\n",
        "# Change figure size and increase dpi for better resolution\n",
        "# and get reference to axes object\n",
        "fig, ax = plt.subplots(figsize=(8,8), dpi=100)\n",
        "class_names = ['business','entertainment','politics','sport','tech']\n",
        "# initialize using the raw 2D confusion matrix\n",
        "# and output labels (in our case, it's 0 and 1)\n",
        "display = ConfusionMatrixDisplay(cm, display_labels=class_names)\n",
        "\n",
        "# set the plot title using the axes object\n",
        "ax.set(title='Confusion Matrix for the  Text Classification Model')\n",
        "\n",
        "# show the plot.\n",
        "# Pass the parameter ax to show customizations (ex. title)\n",
        "display.plot(ax=ax);"
      ]
    },
    {
      "cell_type": "code",
      "execution_count": null,
      "metadata": {
        "id": "m6smCrY1Nb5O"
      },
      "outputs": [],
      "source": []
    }
  ],
  "metadata": {
    "colab": {
      "provenance": []
    },
    "kernelspec": {
      "display_name": "Python 3",
      "name": "python3"
    },
    "language_info": {
      "codemirror_mode": {
        "name": "ipython",
        "version": 3
      },
      "file_extension": ".py",
      "mimetype": "text/x-python",
      "name": "python",
      "nbconvert_exporter": "python",
      "pygments_lexer": "ipython3",
      "version": "3.12.3"
    }
  },
  "nbformat": 4,
  "nbformat_minor": 0
}
